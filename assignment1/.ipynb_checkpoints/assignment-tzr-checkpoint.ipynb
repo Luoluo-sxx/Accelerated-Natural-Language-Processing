{
 "cells": [
  {
   "cell_type": "code",
   "execution_count": 1,
   "metadata": {},
   "outputs": [],
   "source": [
    "import re\n",
    "import sys\n",
    "import numpy as np\n",
    "from random import random\n",
    "from math import log\n",
    "from collections import defaultdict"
   ]
  },
  {
   "cell_type": "code",
   "execution_count": 2,
   "metadata": {},
   "outputs": [],
   "source": [
    "#counts the N-gram pieces of the sentence\n",
    "infile_en = 'data/training.en'\n",
    "infile_de = 'data/training.de'\n",
    "infile_es = 'data/training.es'\n",
    "infile_mo = 'data/model-br.en'\n",
    "infile_test = 'data/test'"
   ]
  },
  {
   "cell_type": "code",
   "execution_count": 3,
   "metadata": {},
   "outputs": [],
   "source": [
    "def preprocess_line(line):\n",
    "        alpha = set(chr(i) for i in range(97,123))|set(chr(i) for i in range(65,91))\n",
    "        res = \"\"\n",
    "        for i in line.rstrip(\"\\n\"): #there are \"\\n\" in every end of the sentence\n",
    "            if i in alpha:\n",
    "                res += i.lower()\n",
    "            elif i.isspace():\n",
    "                res += \" \"\n",
    "            elif i.isdigit():\n",
    "                res += \"0\"\n",
    "            elif i == \".\":\n",
    "                res += \".\"\n",
    "        return res"
   ]
  },
  {
   "cell_type": "code",
   "execution_count": 5,
   "metadata": {},
   "outputs": [
    {
     "name": "stdout",
     "output_type": "stream",
     "text": [
      "30\n"
     ]
    }
   ],
   "source": [
    "# to generate a set which consists the courpus\n",
    "option =  set(chr(i) for i in range(97,123))\n",
    "option =  option|{\" \",\".\",\"#\",\"0\"}\n",
    "print(len(option))\n",
    "\n",
    "full = set()\n",
    "for i in option:\n",
    "    for j in option:\n",
    "        for k in option:\n",
    "            full = full|{i+j+k}\n",
    "\n",
    "x_e_y = set()\n",
    "for i in option:\n",
    "        for j in option:\n",
    "            x_e_y = x_e_y|{i+\"#\"+j}\n",
    "\n",
    "e_x_e = set()\n",
    "for i in option:\n",
    "    e_x_e = e_x_e|{\"#\"+i+\"#\"}\n",
    "\n",
    "e_e_x = set()\n",
    "for i in (option-{\"#\"}):\n",
    "    e_e_x = e_e_x|{\"#\"+\"#\"+i}\n",
    "rest = full - x_e_y - e_x_e | e_e_x"
   ]
  },
  {
   "cell_type": "code",
   "execution_count": 7,
   "metadata": {},
   "outputs": [],
   "source": [
    "def generate_LM(infile, rest):    \n",
    "    tri_counts = defaultdict(list)\n",
    "    his_counts = defaultdict(list)\n",
    "    print(len(rest))\n",
    "    with open(infile) as f:\n",
    "        for line in f:\n",
    "            #print(line)\n",
    "            line = preprocess_line(line)\n",
    "            line = \"##\"+line+\"#\"    #add the marks of beginning and end \n",
    "            #print(line)\n",
    "            for j in range(len(line)-(2)):\n",
    "                trigram = line[j:j+3]\n",
    "                his = trigram[:2]\n",
    "                try:\n",
    "                    his_counts[his][0] += 1\n",
    "                except:\n",
    "                    his_counts[his].append(1)\n",
    "                try:\n",
    "                    tri_counts[trigram][0] += 1\n",
    "                except:\n",
    "                    tri_counts[trigram].append(1.005)\n",
    "                    his_counts[trigram[0:2]][0] += 0.005\n",
    "                    tri_counts[trigram].append(trigram[0:2])\n",
    "                    his_counts[trigram[0:2]].append(trigram)\n",
    "            \n",
    "                rest = rest - {trigram}\n",
    "    #start to do the process of smooth\n",
    "    for trigram in rest:\n",
    "        his = trigram[:2]\n",
    "        try:\n",
    "            his_counts[his][0] += 0.005\n",
    "        except:\n",
    "            his_counts[his].append(0.005)\n",
    "        \n",
    "        tri_counts[trigram].append(0.005)\n",
    "        tri_counts[trigram].append(trigram[0:2])\n",
    "        his_counts[trigram[0:2]].append(trigram)\n",
    "    \"\"\"\n",
    "    we generate two dict in collaboration to restore the counts and distribution of our language model\n",
    "    \n",
    "    Dict1: tri_counts = {\"trigram\" : [counts_in_text, two_c_hist, condition_probability]} \n",
    "    Dict2: his_counts = {\"two_c_hist\" : [counts_in_trigram, gram_in_corpus_begin_with_his]} \n",
    "    \n",
    "    as we only has 3000-4000 distinct trigam in text, we need to do smooth to cover all corpus\n",
    "    \n",
    "    attention: we can not counts his directly from text, the end of text would give extra counts\n",
    "    \"\"\"\n",
    "    for s in sorted(tri_counts.keys()):\n",
    "        tri_counts[s].append(tri_counts[s][0]/his_counts[tri_counts[s][1]][0])\n",
    "    #print(tri_counts)\n",
    "    return tri_counts,his_counts"
   ]
  },
  {
   "cell_type": "code",
   "execution_count": 8,
   "metadata": {},
   "outputs": [],
   "source": [
    "def read_LM(infile_mo):\n",
    "    #load the provided LM into our data_structure\n",
    "    tri_counts = defaultdict(list)\n",
    "    his_counts = defaultdict(list)\n",
    "    with open(infile_mo) as f:\n",
    "        for line in f:\n",
    "            tri_counts[line[0:3]].append(1)\n",
    "            tri_counts[line[0:3]].append(line[0:2])\n",
    "            tri_counts[line[0:3]].append(line[4:])\n",
    "            tri_counts[line[0:3]][2] = float(tri_counts[line[0:3]][2][:5])/(10**int(line[11:13]))\n",
    "            if(len(his_counts[line[0:2]]) == 0):\n",
    "                his_counts[line[0:2]].append(0)\n",
    "            his_counts[line[0:2]].append(line[0:3])\n",
    "    return tri_counts,his_counts"
   ]
  },
  {
   "cell_type": "code",
   "execution_count": null,
   "metadata": {},
   "outputs": [
    {
     "name": "stdout",
     "output_type": "stream",
     "text": [
      "26100\n"
     ]
    }
   ],
   "source": [
    "tri_mo_counts,his_mo_counts = read_LM(infile_mo)\n",
    "tri_en_counts,his_en_counts = generate_LM(infile_en, rest)\n",
    "tri_de_counts,his_de_counts = generate_LM(infile_de, rest)\n",
    "tri_es_counts,his_es_counts = generate_LM(infile_es, rest)"
   ]
  },
  {
   "cell_type": "code",
   "execution_count": null,
   "metadata": {},
   "outputs": [],
   "source": [
    "def generate_from_LM(tri_counts, his_counts):\n",
    "    \"\"\"\n",
    "    para = np.random.choice(list(tri_counts.keys()))\n",
    "    print(para)\n",
    "    key = para\n",
    "    \"\"\"\n",
    "    \"\"\"\n",
    "    outcomes = np.array(list(tri_en_counts.keys()))\n",
    "    cnt = list(tri_en_counts.values())\n",
    "    for i in range(len(cnt)):\n",
    "        cnt[i] = cnt[i][0]\n",
    "    bins = np.array(cnt)\n",
    "    cum = 0\n",
    "    for i in range(len(bins)):\n",
    "        cum += bins[i]\n",
    "        bins[i] = cum\n",
    "    \"\"\"\n",
    "\n",
    "    key = \"##\" #every para should start with the beginning mark\n",
    "    para = key\n",
    "    for i in range(300):\n",
    "        opt = list(his_counts[key][1:])\n",
    "        try:\n",
    "            # modify the lab code to generate the random char via probability distribution\n",
    "            # we can use random.choice(a,b) as well \n",
    "            prob = list(tri_counts[key][2] for key in opt)\n",
    "            bins = np.cumsum(prob)\n",
    "            choose = np.digitize(np.random.rand(1), bins)\n",
    "            key = opt[choose[0]]\n",
    "        \n",
    "        except:\n",
    "            \"\"\"\n",
    "            there is some probability that we will generate a sequence before the expected\n",
    "            length end with .#, which means that there will be no possibile follower in corpus,\n",
    "            and then we throw a description.\n",
    "            \"\"\"\n",
    "            print(\"can not consist 300 character with prob\")\n",
    "            break\n",
    "        \"\"\"\n",
    "        this part choose the max probability item with given history\n",
    "        max_p,best = 0,None\n",
    "        if len(his_counts[key[1:]][1:]) == 0:\n",
    "            print(\"can not consist 300 character with prob\") \n",
    "            break\n",
    "        else:\n",
    "            for tri in his_counts[key[1:]][1:]:\n",
    "                if max_p <= tri_counts[tri][2]:\n",
    "                    max_p = tri_counts[tri][2]\n",
    "                    best = tri\n",
    "            #print(tri,best,max_p,tri_counts[tri][2])\n",
    "                   key = best\n",
    "        #print(best)\n",
    "        \"\"\"\n",
    "        para += key[2]\n",
    "        key = key[1:]\n",
    "    return para"
   ]
  },
  {
   "cell_type": "code",
   "execution_count": null,
   "metadata": {},
   "outputs": [],
   "source": [
    "#test the language_model for generating\n",
    "para_1 = generate_from_LM(tri_en_counts, his_en_counts)\n",
    "print(para_1)\n",
    "para_2 = generate_from_LM(tri_mo_counts, his_mo_counts)\n",
    "print(para_2)\n"
   ]
  },
  {
   "cell_type": "code",
   "execution_count": null,
   "metadata": {},
   "outputs": [],
   "source": [
    "def calculate_perp(infile_test, tri_counts, his_counts):\n",
    "    logsum = 0\n",
    "    with open(infile_test) as f:\n",
    "        count_line = 0\n",
    "        sum_t = 0\n",
    "        for line in f:\n",
    "            \"\"\"\n",
    "            when calculate the perplexity of the text, we need to use the log to change\n",
    "            the product operation into sum to keep the precision.\n",
    "            \"\"\"\n",
    "            line = preprocess_line(line) \n",
    "            line = \"##\"+line+\"#\"\n",
    "            sum_t += (len(line)-2)\n",
    "            for i in range(len(line)-(2)):\n",
    "                tri = line[i:i+3]\n",
    "                logsum += log(tri_counts[tri][2],2)\n",
    "           \n",
    "    N = sum_t\n",
    "    print(N)\n",
    "    #print(prob)\n",
    "    perp = pow(2,-1/N * logsum)\n",
    "    print(perp)\n",
    "    return perp"
   ]
  },
  {
   "cell_type": "code",
   "execution_count": null,
   "metadata": {},
   "outputs": [],
   "source": [
    "calculate_perp(infile_test, tri_mo_counts, his_mo_counts)\n",
    "calculate_perp(infile_test, tri_en_counts, his_en_counts)\n",
    "calculate_perp(infile_test, tri_de_counts, his_de_counts)\n",
    "calculate_perp(infile_test, tri_es_counts, his_es_counts)"
   ]
  },
  {
   "cell_type": "code",
   "execution_count": null,
   "metadata": {},
   "outputs": [],
   "source": []
  }
 ],
 "metadata": {
  "kernelspec": {
   "display_name": "Python 3",
   "language": "python",
   "name": "python3"
  },
  "language_info": {
   "codemirror_mode": {
    "name": "ipython",
    "version": 3
   },
   "file_extension": ".py",
   "mimetype": "text/x-python",
   "name": "python",
   "nbconvert_exporter": "python",
   "pygments_lexer": "ipython3",
   "version": "3.4.9"
  }
 },
 "nbformat": 4,
 "nbformat_minor": 2
}
