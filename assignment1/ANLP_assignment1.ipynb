{
 "cells": [
  {
   "cell_type": "code",
   "execution_count": 1,
   "metadata": {},
   "outputs": [],
   "source": [
    "import re\n",
    "import sys\n",
    "from random import random\n",
    "from math import log\n",
    "import numpy as np\n",
    "from collections import defaultdict\n",
    "import collections\n",
    "import time"
   ]
  },
  {
   "cell_type": "code",
   "execution_count": 2,
   "metadata": {},
   "outputs": [],
   "source": [
    "file_en = 'data/training.en'\n",
    "file_de = 'data/training.de'\n",
    "file_es = 'data/training.es'\n",
    "file_mo = 'data/model-br.en'\n",
    "file_test = 'data/test'"
   ]
  },
  {
   "cell_type": "code",
   "execution_count": 3,
   "metadata": {},
   "outputs": [
    {
     "name": "stdout",
     "output_type": "stream",
     "text": [
      "30\n"
     ]
    }
   ],
   "source": [
    "\n",
    "option =  set(chr(i) for i in range(97,123))\n",
    "option =  option|{\" \",\".\",\"#\",\"0\"}\n",
    "print(len(option))\n",
    "\n",
    "full = set()\n",
    "for i in option:\n",
    "    for j in option:\n",
    "        for k in option:\n",
    "            full = full|{i+j+k}\n",
    "\n",
    "x_e_y = set()\n",
    "for i in option:\n",
    "        for j in option:\n",
    "            x_e_y = x_e_y|{i+\"#\"+j}\n",
    "\n",
    "e_x_e = set()\n",
    "for i in option:\n",
    "    e_x_e = e_x_e|{\"#\"+i+\"#\"}\n",
    "                                          \n",
    "e_e_x = set()\n",
    "for i in (option-{\"#\"}):\n",
    "    e_e_x = e_e_x|{\"#\"+\"#\"+i}\n",
    "rest = full - x_e_y - e_x_e | e_e_x\n"
   ]
  },
  {
   "cell_type": "code",
   "execution_count": 6,
   "metadata": {},
   "outputs": [
    {
     "data": {
      "text/plain": [
       "'what is your name000.'"
      ]
     },
     "execution_count": 6,
     "metadata": {},
     "output_type": "execute_result"
    }
   ],
   "source": [
    "#task1#\n",
    "#Set = [chr(i) for i in range(65,91) and range()]\n",
    "\n",
    "Set = ['a','b','c','d','e','f','g','h','i','j','k','l','m','n','o','p','q','r','s','t','u','v','w','x','y','z',\n",
    "      'A','B','C','D','E','F','G','H','I','J','K','L','M','N','O','P','Q','R','S','T','U','V','W','X','Y','Z']\n",
    "def preprocess_line(line):\n",
    "    res = \"\"\n",
    "    for i in line.rstrip(\"\\n\"):\n",
    "        if i in Set:\n",
    "            res += i.lower()\n",
    "        elif i.isspace():\n",
    "            res += ' '\n",
    "        elif i.isdigit():\n",
    "            res += \"0\"\n",
    "        elif i == '.':\n",
    "            res += '.'\n",
    "    return res\n",
    "string = \"What is Your Name123?.!?\"\n",
    "preprocess_line(string)\n"
   ]
  },
  {
   "cell_type": "code",
   "execution_count": 7,
   "metadata": {},
   "outputs": [],
   "source": [
    "\n",
    "#task3#\n",
    "def generate_LM(infile,full):\n",
    "    tri_counts = defaultdict(list)\n",
    "    his_counts = defaultdict(list)\n",
    "    #rest = full\n",
    "    with open(infile) as f:\n",
    "        for line in f:\n",
    "            line = preprocess_line(line)\n",
    "            line = \"##\" + line + \"#\"\n",
    "            for j in range(len(line)-(2)):\n",
    "                trigram = line[j:j+3]\n",
    "                his = trigram[:2]\n",
    "                try:\n",
    "                    his_counts[his][0] += 1\n",
    "                except:\n",
    "                    his_counts[his].append(1)\n",
    "\n",
    "                try:\n",
    "                    tri_counts[trigram][0] += 1\n",
    "                except:\n",
    "                    tri_counts[trigram].append(1.005)\n",
    "                    his_counts[trigram[0:2]][0] += 0.005\n",
    "                    tri_counts[trigram].append(his)\n",
    "                    his_counts[his].append(trigram)\n",
    "                #if trigram in rest:\n",
    "                    #rest.remove(trigram)\n",
    "                full = full - {trigram}\n",
    "    for trigram in full:\n",
    "        his = trigram[:2]\n",
    "        try:\n",
    "            his_counts[his][0] += 0.005\n",
    "        except:\n",
    "            his_counts[his].append(0.005)\n",
    "\n",
    "        tri_counts[trigram].append(0.005)\n",
    "        tri_counts[trigram].append(trigram[0:2])\n",
    "        his_counts[his].append(trigram)\n",
    "\n",
    "    for s in sorted(tri_counts.keys()):\n",
    "        tri_counts[s].append(tri_counts[s][0]/his_counts[tri_counts[s][1]][0])\n",
    "    print(len(full))\n",
    "    return tri_counts, his_counts\n"
   ]
  },
  {
   "cell_type": "code",
   "execution_count": 8,
   "metadata": {},
   "outputs": [],
   "source": [
    "def load_data_into(infile):\n",
    "    with open(infile) as f:\n",
    "        tri_counts_model = defaultdict(list)\n",
    "        his_counts_model = defaultdict(list)\n",
    "        for line in f:\n",
    "            tab = line[0:3]\n",
    "            p = int(line[11:13])\n",
    "            prob = float(line[4:9])*pow(10,-p)\n",
    "            tri_counts_model[tab].append(1)\n",
    "            tri_counts_model[tab].append(tab[0:2])\n",
    "            tri_counts_model[tab].append(prob)\n",
    "            try:\n",
    "                his_counts_model[tab[0:2]][0] += 1\n",
    "            except:\n",
    "                his_counts_model[tab[0:2]].append(1)\n",
    "            his_counts_model[tab[0:2]].append(tab)\n",
    "    return tri_counts_model,his_counts_model\n",
    "        "
   ]
  },
  {
   "cell_type": "code",
   "execution_count": 16,
   "metadata": {},
   "outputs": [],
   "source": [
    "#task4#\n",
    "def generate_from_LM(tri_counts, his_counts):\n",
    "    key = \"##\"\n",
    "    para = key\n",
    "    for i in range(300):\n",
    "        opt = list(his_counts[key][1:])\n",
    "        try:\n",
    "            prob = list(tri_counts[key][2] for key in opt)\n",
    "            bins = np.cumsum(prob)\n",
    "            choose = np.digitize(np.random.rand(1), bins)\n",
    "            key = opt[choose[0]]\n",
    "        \n",
    "        except:\n",
    "            print(\"can not consist 300 character with prob\")\n",
    "            break      \n",
    "        para += key[2]\n",
    "        key = key[1:]\n",
    "    return para"
   ]
  },
  {
   "cell_type": "code",
   "execution_count": 10,
   "metadata": {},
   "outputs": [
    {
     "name": "stdout",
     "output_type": "stream",
     "text": [
      "22486\n",
      "22006\n",
      "22867\n",
      "385.35s\n"
     ]
    }
   ],
   "source": [
    "start = time.time()\n",
    "tri_counts,his_counts = generate_LM(file_en,rest)\n",
    "tri_de_counts,his_de_counts = generate_LM(file_de,rest)\n",
    "tri_es_counts,his_es_counts = generate_LM(file_es,rest)\n",
    "tri_counts_model,his_counts_model = load_data_into(file_mo)\n",
    "end = time.time()\n",
    "print(\"{:.2f}s\".format(end-start))"
   ]
  },
  {
   "cell_type": "code",
   "execution_count": 17,
   "metadata": {
    "scrolled": true
   },
   "outputs": [
    {
     "name": "stdout",
     "output_type": "stream",
     "text": [
      "can not consist 300 character with prob\n",
      "##mr on amis letwo re it extres ar to ot the ne onsidessuctur  burectultiamentaill pare acce submissin an entate of thatexandints cris red be cominabill rabse 0.#\n",
      "can not consist 300 character with prob\n",
      "##do heah boo.#\n"
     ]
    }
   ],
   "source": [
    "String = generate_from_LM(tri_counts,his_counts)\n",
    "print(String)\n",
    "#tri_counts_model,his_counts_model = load_data_into(file_mo)\n",
    "\n",
    "String_model = generate_from_LM(tri_counts_model,his_counts_model)\n",
    "print(String_model)\n",
    "\n"
   ]
  },
  {
   "cell_type": "code",
   "execution_count": 25,
   "metadata": {},
   "outputs": [],
   "source": [
    "#task5#\n",
    " \n",
    "def compute_perplexity(inFile,tri_counts):\n",
    "    with open(inFile) as f:\n",
    "        n = 0\n",
    "        pw = 0\n",
    "        for line in f:\n",
    "            line = preprocess_line(line)\n",
    "            line = \"##\"+line+\"#\"  \n",
    "            n += len(line)-2\n",
    "            for j in range(len(line)-(2)):\n",
    "                temp = line[j:j+3]\n",
    "                ta = tri_counts[temp][2]\n",
    "                pw += log(tri_counts[temp][2],2)         \n",
    "        hm = -pw/n\n",
    "        per = pow(2,hm)\n",
    "    return per\n",
    "    "
   ]
  },
  {
   "cell_type": "code",
   "execution_count": 234,
   "metadata": {},
   "outputs": [
    {
     "name": "stdout",
     "output_type": "stream",
     "text": [
      "9.900934286409948\n",
      "22.094457902881697\n",
      "47.55191657771604\n",
      "47.318787919289704\n"
     ]
    }
   ],
   "source": [
    "perp_en = compute_perplexity(file_test,tri_counts)\n",
    "perp_model = compute_perplexity(file_test,tri_counts_model)\n",
    "perp_es = compute_perplexity(file_test,tri_es_counts)\n",
    "perp_de = compute_perplexity(file_test,tri_de_counts)\n",
    "print(perp_en)\n",
    "print(perp_model)\n",
    "print(perp_es)\n",
    "print(perp_de)"
   ]
  }
 ],
 "metadata": {
  "kernelspec": {
   "display_name": "Python 3",
   "language": "python",
   "name": "python3"
  },
  "language_info": {
   "codemirror_mode": {
    "name": "ipython",
    "version": 3
   },
   "file_extension": ".py",
   "mimetype": "text/x-python",
   "name": "python",
   "nbconvert_exporter": "python",
   "pygments_lexer": "ipython3",
   "version": "3.6.5"
  }
 },
 "nbformat": 4,
 "nbformat_minor": 2
}
